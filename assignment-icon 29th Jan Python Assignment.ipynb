{
 "cells": [
  {
   "cell_type": "code",
   "execution_count": 1,
   "id": "21ad1810-9401-490a-8989-3f0cc02235f6",
   "metadata": {},
   "outputs": [
    {
     "data": {
      "text/plain": [
       "'Guido van Rossum'"
      ]
     },
     "execution_count": 1,
     "metadata": {},
     "output_type": "execute_result"
    }
   ],
   "source": [
    "'1.Guido van Rossum'"
   ]
  },
  {
   "cell_type": "code",
   "execution_count": 2,
   "id": "fe54eb56-23e2-4bf0-8129-fb79fd659245",
   "metadata": {},
   "outputs": [
    {
     "data": {
      "text/plain": [
       "'Object-oriented programming and structured programming are fully supported'"
      ]
     },
     "execution_count": 2,
     "metadata": {},
     "output_type": "execute_result"
    }
   ],
   "source": [
    "'2.Object-oriented programming and structured programming are fully supported'"
   ]
  },
  {
   "cell_type": "code",
   "execution_count": 3,
   "id": "6a08bebf-03fc-4b03-99a5-32cf4a99d2d5",
   "metadata": {},
   "outputs": [
    {
     "data": {
      "text/plain": [
       "'Yes, Python is a case-sensitive language'"
      ]
     },
     "execution_count": 3,
     "metadata": {},
     "output_type": "execute_result"
    }
   ],
   "source": [
    "\"3.Yes, Python is a case-sensitive language\""
   ]
  },
  {
   "cell_type": "code",
   "execution_count": 5,
   "id": "732e51a2-4b79-4d60-bcf8-45049b23036d",
   "metadata": {},
   "outputs": [
    {
     "data": {
      "text/plain": [
       "'The extensions for Python files are - . py'"
      ]
     },
     "execution_count": 5,
     "metadata": {},
     "output_type": "execute_result"
    }
   ],
   "source": [
    "\"4.The extensions for Python files are - . py\""
   ]
  },
  {
   "cell_type": "code",
   "execution_count": 6,
   "id": "328cda96-d4ca-47a1-9445-fe9693c15234",
   "metadata": {},
   "outputs": [
    {
     "data": {
      "text/plain": [
       "'Python is an interpreted language'"
      ]
     },
     "execution_count": 6,
     "metadata": {},
     "output_type": "execute_result"
    }
   ],
   "source": [
    "\"5.Python is an interpreted language\""
   ]
  },
  {
   "cell_type": "code",
   "execution_count": null,
   "id": "178a71ab-21ad-4699-b3b7-3e32cbac024d",
   "metadata": {
    "tags": []
   },
   "outputs": [],
   "source": [
    "\"7.single # character \""
   ]
  },
  {
   "cell_type": "code",
   "execution_count": null,
   "id": "f183a7ea-adb1-4d8c-8406-76963205bde2",
   "metadata": {},
   "outputs": [],
   "source": [
    "\"8.The function sys. version can help us to find the version of python that we are currently working on.\""
   ]
  },
  {
   "cell_type": "code",
   "execution_count": null,
   "id": "cfd06c3c-84b9-4162-960e-38cd034d7f40",
   "metadata": {},
   "outputs": [],
   "source": [
    "\"9.lambda\""
   ]
  },
  {
   "cell_type": "code",
   "execution_count": null,
   "id": "a26cd99f-241a-453f-9808-34392f865bd3",
   "metadata": {},
   "outputs": [],
   "source": [
    "\"10.pip stands for \"preferred installer program\""
   ]
  },
  {
   "cell_type": "code",
   "execution_count": null,
   "id": "0bd0896f-ddbb-4e0a-b037-a24f2b5803c7",
   "metadata": {},
   "outputs": [],
   "source": [
    "\"11. Python Built-in Functions\n",
    "print( ) function.\n",
    "type( ) function.\n",
    "input( ) function.\n",
    "abs( ) function.\n",
    "pow( ) function.\n",
    "dir( ) function.\n",
    "sorted( ) functio\""
   ]
  },
  {
   "cell_type": "code",
   "execution_count": null,
   "id": "87a47bb7-0199-4d59-a4ea-abcf8e1bae22",
   "metadata": {},
   "outputs": [],
   "source": [
    "\"12. in python maximum length of 79 characters\""
   ]
  },
  {
   "cell_type": "code",
   "execution_count": null,
   "id": "c94f8e07-eb2b-4b71-a2ed-ebc1f523f1a9",
   "metadata": {},
   "outputs": [],
   "source": [
    "\"13.Top Reasons to Learn Python\n",
    "Data science.\n",
    "Scientific and mathematical computing.\n",
    "Web development.\n",
    "Finance and trading.\n",
    "System automation and administration.\n",
    "Computer graphics.\n",
    "Basic game development.\""
   ]
  },
  {
   "cell_type": "code",
   "execution_count": null,
   "id": "97f4b60d-2abf-4359-8356-de21c246d1c9",
   "metadata": {},
   "outputs": [],
   "source": [
    "\"14. Python uses a portion of the memory for internal use and non-object memory. Another part of the memory is used for Python object such as int, dict, list, etc\""
   ]
  },
  {
   "cell_type": "code",
   "execution_count": null,
   "id": "dd077526-76d1-4166-a109-dc14c70ac8b5",
   "metadata": {},
   "outputs": [],
   "source": [
    "\"15. installation process\n",
    "1.Right-clicking This PC and going to Properties.\n",
    "\n",
    "2.Clicking on the Advanced system settings in the menu on the left.\n",
    "\n",
    "3.Clicking on the Environment Variables button o​n the bottom right.\n",
    "\n",
    "4.In the System variables section, selecting the Path variable and clicking on Edit. The next screen will show all the directories that are currently a part of the PATH variable.\n",
    "\n",
    "5.Clicking on New and entering Python’s install directory.\""
   ]
  },
  {
   "cell_type": "code",
   "execution_count": null,
   "id": "cabee88d-f652-48c0-995f-3b31712e7f00",
   "metadata": {},
   "outputs": [],
   "source": [
    "\"16.\n",
    " the indentation in Python is very important.\""
   ]
  }
 ],
 "metadata": {
  "kernelspec": {
   "display_name": "Python 3 (ipykernel)",
   "language": "python",
   "name": "python3"
  },
  "language_info": {
   "codemirror_mode": {
    "name": "ipython",
    "version": 3
   },
   "file_extension": ".py",
   "mimetype": "text/x-python",
   "name": "python",
   "nbconvert_exporter": "python",
   "pygments_lexer": "ipython3",
   "version": "3.10.8"
  }
 },
 "nbformat": 4,
 "nbformat_minor": 5
}

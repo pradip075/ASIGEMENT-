{
 "cells": [
  {
   "cell_type": "code",
   "execution_count": 9,
   "id": "d6903bd1-1cb7-4f01-a919-d6d758405925",
   "metadata": {},
   "outputs": [],
   "source": [
    "l = ['1','2','3','4','5','6','7','8']"
   ]
  },
  {
   "cell_type": "code",
   "execution_count": 26,
   "id": "79730937-c87d-48f4-bee0-bfe58308f60a",
   "metadata": {},
   "outputs": [
    {
     "name": "stdout",
     "output_type": "stream",
     "text": [
      "pradip\n",
      "dhara\n",
      "pw skill\n",
      "data science\n"
     ]
    }
   ],
   "source": [
    "for i in l:\n",
    "    print (i)\n",
    "    l1.append(i.upper())"
   ]
  },
  {
   "cell_type": "code",
   "execution_count": 27,
   "id": "6a052890-44c9-40bf-8066-865b2ad7ddc3",
   "metadata": {},
   "outputs": [
    {
     "data": {
      "text/plain": [
       "['PRADIP', 'DHARA', 'PW SKILL', 'DATA SCIENCE']"
      ]
     },
     "execution_count": 27,
     "metadata": {},
     "output_type": "execute_result"
    }
   ],
   "source": [
    "l1"
   ]
  },
  {
   "cell_type": "code",
   "execution_count": 32,
   "id": "810e8430-1ec1-4f98-9d85-f5f846731544",
   "metadata": {},
   "outputs": [],
   "source": [
    "m=[1,2,3,4,5,6,\"pradip\",'engineer',324,56.6,\"abc\"]"
   ]
  },
  {
   "cell_type": "code",
   "execution_count": null,
   "id": "401c6df2-952a-410d-9040-ef3df025901b",
   "metadata": {},
   "outputs": [],
   "source": [
    "m1_num =[]\n",
    "m2_str=[]\n",
    "for i in m:\n",
    "    if type (i)==int or type(i)==float:\n",
    "        m1_num.uppend(i)\n"
   ]
  }
 ],
 "metadata": {
  "kernelspec": {
   "display_name": "Python 3 (ipykernel)",
   "language": "python",
   "name": "python3"
  },
  "language_info": {
   "codemirror_mode": {
    "name": "ipython",
    "version": 3
   },
   "file_extension": ".py",
   "mimetype": "text/x-python",
   "name": "python",
   "nbconvert_exporter": "python",
   "pygments_lexer": "ipython3",
   "version": "3.10.8"
  }
 },
 "nbformat": 4,
 "nbformat_minor": 5
}
